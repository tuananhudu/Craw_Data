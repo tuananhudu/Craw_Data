{
 "cells": [
  {
   "cell_type": "code",
   "execution_count": 2,
   "id": "cacd5945",
   "metadata": {},
   "outputs": [
    {
     "name": "stdout",
     "output_type": "stream",
     "text": [
      "Collecting pypdf2\n",
      "  Obtaining dependency information for pypdf2 from https://files.pythonhosted.org/packages/8e/5e/c86a5643653825d3c913719e788e41386bee415c2b87b4f955432f2de6b2/pypdf2-3.0.1-py3-none-any.whl.metadata\n",
      "  Downloading pypdf2-3.0.1-py3-none-any.whl.metadata (6.8 kB)\n",
      "Downloading pypdf2-3.0.1-py3-none-any.whl (232 kB)\n",
      "   ---------------------------------------- 0.0/232.6 kB ? eta -:--:--\n",
      "   - -------------------------------------- 10.2/232.6 kB ? eta -:--:--\n",
      "   ----- --------------------------------- 30.7/232.6 kB 325.1 kB/s eta 0:00:01\n",
      "   ------------ -------------------------- 71.7/232.6 kB 563.7 kB/s eta 0:00:01\n",
      "   ----------------------- -------------- 143.4/232.6 kB 853.3 kB/s eta 0:00:01\n",
      "   ---------------------------------------- 232.6/232.6 kB 1.1 MB/s eta 0:00:00\n",
      "Installing collected packages: pypdf2\n",
      "Successfully installed pypdf2-3.0.1\n"
     ]
    }
   ],
   "source": [
    "!pip install pypdf2"
   ]
  },
  {
   "cell_type": "code",
   "execution_count": null,
   "id": "84522fd2",
   "metadata": {},
   "outputs": [],
   "source": [
    "import PyPDF2 as pdf"
   ]
  },
  {
   "cell_type": "code",
   "execution_count": 5,
   "id": "f856d505",
   "metadata": {},
   "outputs": [],
   "source": [
    "from PyPDF2 import PdfReader , PdfWriter"
   ]
  },
  {
   "cell_type": "code",
   "execution_count": 7,
   "id": "6fc6336b",
   "metadata": {},
   "outputs": [],
   "source": [
    "file = open(\"Nativity_Example.pdf\" , \"rb\")\n",
    "reader = PdfReader(file)"
   ]
  },
  {
   "cell_type": "code",
   "execution_count": 9,
   "id": "469b406d",
   "metadata": {},
   "outputs": [],
   "source": [
    "info = reader.metadata"
   ]
  },
  {
   "cell_type": "code",
   "execution_count": 10,
   "id": "c5b9f719",
   "metadata": {},
   "outputs": [
    {
     "data": {
      "text/plain": [
       "{'/Title': 'Nativity_Example',\n",
       " '/Producer': 'Skia/PDF m110 Google Docs Renderer'}"
      ]
     },
     "execution_count": 10,
     "metadata": {},
     "output_type": "execute_result"
    }
   ],
   "source": [
    "info"
   ]
  },
  {
   "cell_type": "code",
   "execution_count": 11,
   "id": "92bfb562",
   "metadata": {},
   "outputs": [
    {
     "data": {
      "text/plain": [
       "'Nativity_Example'"
      ]
     },
     "execution_count": 11,
     "metadata": {},
     "output_type": "execute_result"
    }
   ],
   "source": [
    "info.title"
   ]
  },
  {
   "cell_type": "code",
   "execution_count": 12,
   "id": "ffc5c791",
   "metadata": {},
   "outputs": [],
   "source": [
    "info.author"
   ]
  },
  {
   "cell_type": "code",
   "execution_count": 13,
   "id": "b401460e",
   "metadata": {},
   "outputs": [
    {
     "data": {
      "text/plain": [
       "3"
      ]
     },
     "execution_count": 13,
     "metadata": {},
     "output_type": "execute_result"
    }
   ],
   "source": [
    "len(reader.pages)"
   ]
  },
  {
   "cell_type": "code",
   "execution_count": 14,
   "id": "2c235f19",
   "metadata": {},
   "outputs": [
    {
     "data": {
      "text/plain": [
       "'The nativity of Jesus, nativity of Christ, birth of Jesus or birth of Christ is described in the biblical\\ngospels of Luke and Matthew . The two accounts agree that Jesus was born in Bethlehem in\\nJudaea, his mother Mary was engaged to a man named Joseph, who was descended from King\\nDavid and was not his biological father , and that his birth was caused by divine intervention.\\nMany modern scholars consider the birth narratives unhistorical because they are laced with\\ntheology and present two dif ferent accounts which cannot be harmonised into a single coherent\\nnarrative. But many others view the discussion of historicity as secondary , given that gospels\\nwere primarily written as theological documents rather than chronological timelines.\\nThe nativity is the basis for the Christian holiday of Christmas, and plays a major role in the\\nChristian liturgical year . Many Christians traditionally display small manger scenes depicting the\\nnativity in their homes, or attend nativity plays or Christmas pageants focusing on the nativity\\ncycle in the Bible. Elaborate nativity displays featuring life-sized statues are a tradition in many\\ncontinental European countries during the Christmas season.\\nThe artistic depiction of the nativity has been an important subject for Christian artists since the\\n4th century . Artistic depictions of the nativity scene since the 13th century have emphasized the\\nhumility of Jesus and promoted a more tender image of him, a major change from the early \"Lord\\nand Master\" image, mirroring changes in the common approaches taken by Christian pastoral\\nministry during the same era.\\nThe nativity of Jesus, nativity of Christ, birth of Jesus or birth of Christ is described in the biblical\\ngospels of Luke and Matthew . The two accounts agree that Jesus was born in Bethlehem in\\nJudaea, his mother Mary was engaged to a man named Joseph, who was descended from King\\nDavid and was not his biological father , and that his birth was caused by divine intervention.\\nMany modern scholars consider the birth narratives unhistorical because they are laced with\\ntheology and present two dif ferent accounts which cannot be harmonised into a single coherent\\nnarrative. But many others view the discussion of historicity as secondary , given that gospels\\nwere primarily written as theological documents rather than chronological timelines.\\nThe nativity is the basis for the Christian holiday of Christmas, and plays a major role in the\\nChristian liturgical year . Many Christians traditionally display small manger scenes depicting the\\nnativity in their homes, or attend nativity plays or Christmas pageants focusing on the nativity\\ncycle in the Bible. Elaborate nativity displays featuring life-sized statues are a tradition in many\\ncontinental European countries during the Christmas season.\\nThe artistic depiction of the nativity has been an important subject for Christian artists since the\\n4th century . Artistic depictions of the nativity scene since the 13th century have emphasized the\\nhumility of Jesus and promoted a more tender image of him, a major change from the early \"Lord\\nand Master\" image, mirroring changes in the common approaches taken by Christian pastoral\\nministry during the same era.\\nEarly Christians viewed Jesus as \"the Lord\" and the word Kyrios appears over 700 times in the\\nNew Testament, referring to him as such.[1 12] The use of the word Kyrios in the Septuagint Bible'"
      ]
     },
     "execution_count": 14,
     "metadata": {},
     "output_type": "execute_result"
    }
   ],
   "source": [
    "reader.pages[0].extract_text()"
   ]
  },
  {
   "cell_type": "code",
   "execution_count": 15,
   "id": "26272597",
   "metadata": {},
   "outputs": [],
   "source": [
    "def get_pdf_metadata(pdf_path):\n",
    "    with open(pdf_path , \"rb\") as f :\n",
    "        reader = PdfReader(f)\n",
    "        info = reader.metadata\n",
    "    return info"
   ]
  },
  {
   "cell_type": "code",
   "execution_count": 16,
   "id": "710ecf85",
   "metadata": {},
   "outputs": [
    {
     "data": {
      "text/plain": [
       "{'/Title': 'Nativity_Example',\n",
       " '/Producer': 'Skia/PDF m110 Google Docs Renderer'}"
      ]
     },
     "execution_count": 16,
     "metadata": {},
     "output_type": "execute_result"
    }
   ],
   "source": [
    "get_pdf_metadata(\"Nativity_Example.pdf\")"
   ]
  },
  {
   "cell_type": "code",
   "execution_count": 17,
   "id": "3ecb9a08",
   "metadata": {},
   "outputs": [],
   "source": [
    "def extract_test_from_pdf(pdf_path):\n",
    "    with open(pdf_path , \"rb\") as f :\n",
    "        reader = PdfReader(f)\n",
    "        results = []\n",
    "        for i in range(0 , len(reader.pages)):\n",
    "            selected_page  = reader.pages[i]\n",
    "            text = selected_page.extract_text()\n",
    "            results.append(text)\n",
    "        return ' '.join(results)"
   ]
  },
  {
   "cell_type": "code",
   "execution_count": 18,
   "id": "82016d6f",
   "metadata": {},
   "outputs": [
    {
     "data": {
      "text/plain": [
       "'The nativity of Jesus, nativity of Christ, birth of Jesus or birth of Christ is described in the biblical\\ngospels of Luke and Matthew . The two accounts agree that Jesus was born in Bethlehem in\\nJudaea, his mother Mary was engaged to a man named Joseph, who was descended from King\\nDavid and was not his biological father , and that his birth was caused by divine intervention.\\nMany modern scholars consider the birth narratives unhistorical because they are laced with\\ntheology and present two dif ferent accounts which cannot be harmonised into a single coherent\\nnarrative. But many others view the discussion of historicity as secondary , given that gospels\\nwere primarily written as theological documents rather than chronological timelines.\\nThe nativity is the basis for the Christian holiday of Christmas, and plays a major role in the\\nChristian liturgical year . Many Christians traditionally display small manger scenes depicting the\\nnativity in their homes, or attend nativity plays or Christmas pageants focusing on the nativity\\ncycle in the Bible. Elaborate nativity displays featuring life-sized statues are a tradition in many\\ncontinental European countries during the Christmas season.\\nThe artistic depiction of the nativity has been an important subject for Christian artists since the\\n4th century . Artistic depictions of the nativity scene since the 13th century have emphasized the\\nhumility of Jesus and promoted a more tender image of him, a major change from the early \"Lord\\nand Master\" image, mirroring changes in the common approaches taken by Christian pastoral\\nministry during the same era.\\nThe nativity of Jesus, nativity of Christ, birth of Jesus or birth of Christ is described in the biblical\\ngospels of Luke and Matthew . The two accounts agree that Jesus was born in Bethlehem in\\nJudaea, his mother Mary was engaged to a man named Joseph, who was descended from King\\nDavid and was not his biological father , and that his birth was caused by divine intervention.\\nMany modern scholars consider the birth narratives unhistorical because they are laced with\\ntheology and present two dif ferent accounts which cannot be harmonised into a single coherent\\nnarrative. But many others view the discussion of historicity as secondary , given that gospels\\nwere primarily written as theological documents rather than chronological timelines.\\nThe nativity is the basis for the Christian holiday of Christmas, and plays a major role in the\\nChristian liturgical year . Many Christians traditionally display small manger scenes depicting the\\nnativity in their homes, or attend nativity plays or Christmas pageants focusing on the nativity\\ncycle in the Bible. Elaborate nativity displays featuring life-sized statues are a tradition in many\\ncontinental European countries during the Christmas season.\\nThe artistic depiction of the nativity has been an important subject for Christian artists since the\\n4th century . Artistic depictions of the nativity scene since the 13th century have emphasized the\\nhumility of Jesus and promoted a more tender image of him, a major change from the early \"Lord\\nand Master\" image, mirroring changes in the common approaches taken by Christian pastoral\\nministry during the same era.\\nEarly Christians viewed Jesus as \"the Lord\" and the word Kyrios appears over 700 times in the\\nNew Testament, referring to him as such.[1 12] The use of the word Kyrios in the Septuagint Bible also assigned to Jesus the Old Testament attributes of an omnipotent God.[1 12] The use of the\\nterm Kyrios, and hence the Lordship of Jesus, pre-dated the Pauline epistles, but Paul expanded\\nand elaborated on the topic.[1 12]\\nPauline writings established among early Christians the Kyrios image, and attributes of Jesus as\\nnot only referring to his eschatological victory , but to him as the \"divine image\" (Greek \\nεἰκών,\\neikōn) in whose face the glory of God shines forth. This image persisted among Christians as the\\npredominant perception of Jesus for a number of centuries.[1 13] More than any other title, Kyrios\\ndefined the relationship between Jesus and those who believed in him as Christ: Jesus was their\\nLord and Master who was to be served with all their hearts and who would one day judge their\\nactions throughout their lives.[1 14]\\nThe lordship attributes associated with the Kyrios image of Jesus also implied his power over all\\ncreation.[1 15][1 16] Paul then looked back and reasoned that the final lordship of Jesus was\\nprepared from the very beginning, starting with pre-existence and the nativity , based on his\\nobedience as the image of God.[1 17] Over time, based on the influence of Anselm of Canterbury ,\\nBernard of Clairvaux and others, the Kyrios image of Jesus began to be supplemented with a\\nmore \"tender image of Jesus\", and the Franciscan approach to popular piety was instrumental in\\nestablishing this image.[1 16]\\nThe 13th century witnessed a major turning point in the development of a new \"tender image of\\nJesus\" within Christianity , as the Franciscans began to emphasize the humility of Jesus both at\\nhis birth and his death. The construction of the nativity scene by Francis of Assisi was\\ninstrumental in portraying a softer image of Jesus that contrasted with the powerful and radiant\\nimage at the Transfiguration, and emphasized how God had taken a humble path to his own\\nbirth.[1 18] As the Black Death raged in Medieval Europe, the two mendicant orders of\\nFranciscans and Dominicans helped the faithful cope with tragedies. One element of the\\nFranciscan approach was the emphasis on the humility of Jesus and the poverty of his birth: the\\nimage of God was the image of Jesus, not a severe and punishing God, but himself humble at\\nbirth and sacrificed at death.[1 19] The concept that the omnipotent Creator would set aside all\\npower in order to conquer the hearts of men by love and that he would have been helplessly\\nplaced in a manger was as marvelous and as touching to the believers as the sacrifice of dying\\non the cross in Calvary .[120]\\nThus by the 13th century the tender joys of the nativity of Jesus were added to the agony of his\\nCrucifixion and a whole new range of approved religious emotions was ushered in, with\\nwide-ranging cultural impacts for centuries thereafter .[120] The Franciscans approached both\\nends of this spectrum of emotions. On one hand the introduction of the nativity scene\\nencouraged the tender image of Jesus, while on the other hand Francis of Assisi himself had a\\ndeep attachment to the suf ferings of Jesus on the Cross and was said to have received the\\nstigmata as an expression of that love. The dual nature of Franciscan piety based both on joy of\\nnativity and the sacrifice at Calvary had a deep appeal among city dwellers and as the\\nFranciscan Friars travelled these emotions spread across the world, transforming the Kyrios\\nimage of Jesus to a more tender , loving, and compassionate image.[120] These traditions did not\\nremain limited to Europe and soon spread to the other parts of the world such as Latin America,\\nthe Philippines and the United States.[121][122] What is PDF ?\\nPortable Document Format (PDF), standardized as ISO 32000, is a file format developed by\\nAdobe in 1992 to present documents, including text formatting and images, in a manner\\nindependent of application software, hardware, and operating systems.[2][3] Based on the\\nPostScript language, each PDF file encapsulates a complete description of a fixed-layout flat\\ndocument, including the text, fonts, vector graphics, raster images and other information needed\\nto display it. PDF has its roots in \"The Camelot Project\" initiated by Adobe co-founder John\\nWarnock in 1991.[4]\\nPDF was standardized as ISO 32000 in 2008.[5] The last edition as ISO 32000-2:2020 was\\npublished in December 2020.\\nPDF files may contain a variety of content besides flat text and graphics including logical\\nstructuring elements, interactive elements such as annotations and form-fields, layers, rich media\\n(including video content), three-dimensional objects using U3D or PRC, and various other data\\nformats. The PDF specification also provides for encryption and digital signatures, file\\nattachments, and metadata to enable workflows requiring these features.'"
      ]
     },
     "execution_count": 18,
     "metadata": {},
     "output_type": "execute_result"
    }
   ],
   "source": [
    "extract_test_from_pdf(\"Nativity_Example.pdf\")"
   ]
  },
  {
   "cell_type": "markdown",
   "id": "d922ad8d",
   "metadata": {},
   "source": [
    "# Split PDFS"
   ]
  },
  {
   "cell_type": "code",
   "execution_count": 22,
   "id": "e36214d5",
   "metadata": {},
   "outputs": [],
   "source": [
    "import os\n",
    "def split_pdf(pdf_path):\n",
    "    with open(pdf_path , \"rb\") as f :\n",
    "        reader = PdfReader(f)\n",
    "        # get all pages \n",
    "        for page_num in range(0 , len(reader.pages)):\n",
    "            selected_page = reader.pages[page_num]\n",
    "            # Writer to wirte \n",
    "            writer = PdfWriter()\n",
    "            writer.add_page(selected_page)\n",
    "            filename = os.path.splitext(pdf_path)[0]\n",
    "            output_filename = f\"{filename}_{page_num}.pdf\"\n",
    "            #save and compile to pdf \n",
    "            with open(output_filename , \"wb\") as out :\n",
    "                writer.write(out)\n",
    "            \n",
    "            print(\"created a pdf {}\".format(output_filename))"
   ]
  },
  {
   "cell_type": "code",
   "execution_count": 23,
   "id": "156d91a7",
   "metadata": {},
   "outputs": [
    {
     "name": "stdout",
     "output_type": "stream",
     "text": [
      "created a pdf Nativity_Example_0.pdf\n",
      "created a pdf Nativity_Example_1.pdf\n",
      "created a pdf Nativity_Example_2.pdf\n"
     ]
    }
   ],
   "source": [
    "split_pdf(\"Nativity_Example.pdf\")"
   ]
  },
  {
   "cell_type": "code",
   "execution_count": 24,
   "id": "f33fcca1",
   "metadata": {},
   "outputs": [],
   "source": [
    "# Split PDF Upto A Page\n",
    "def get_pdf_upto(pdf_path,start_page:int=0,stop_page: int = 0):\n",
    "    with open(pdf_path,\"rb\") as f:\n",
    "        reader = PdfReader(f)\n",
    "        writer = PdfWriter()\n",
    "        for page_num in range(start_page,stop_page):\n",
    "            selected_page = reader.pages[page_num]\n",
    "            writer.add_page(selected_page) # prev ::  addPage()\n",
    "            filename = os.path.splitext(pdf_path)[0]\n",
    "            output_filename = f\"{filename}_from_{start_page}_to_{stop_page}.pdf\"\n",
    "        with open(output_filename, \"wb\") as out:\n",
    "            writer.write(out)\n",
    "            "
   ]
  },
  {
   "cell_type": "code",
   "execution_count": 25,
   "id": "fc908cb4",
   "metadata": {},
   "outputs": [],
   "source": [
    "get_pdf_upto(\"Nativity_Example.pdf\",0,2)"
   ]
  },
  {
   "cell_type": "code",
   "execution_count": 26,
   "id": "911ded71",
   "metadata": {},
   "outputs": [],
   "source": [
    "get_pdf_upto(\"Nativity_Example.pdf\",1,2)"
   ]
  },
  {
   "cell_type": "code",
   "execution_count": 27,
   "id": "171a1306",
   "metadata": {},
   "outputs": [],
   "source": [
    "### get the last page of PDF\n",
    "def get_last_pdf_page(pdf_path):\n",
    "     with open(pdf_path,\"rb\") as f:\n",
    "        reader = PdfReader(f)\n",
    "        writer = PdfWriter()\n",
    "        selected_page = reader.pages[len(reader.pages)-1]\n",
    "        writer.add_page(selected_page)\n",
    "        filename = os.path.splitext(pdf_path)[0]\n",
    "        output_filename = f\"{filename}_last_page.pdf\"\n",
    "        with open(output_filename, \"wb\") as out:\n",
    "            writer.write(out)\n",
    "        print(\"created last page\")"
   ]
  },
  {
   "cell_type": "code",
   "execution_count": 28,
   "id": "0206d6e2",
   "metadata": {},
   "outputs": [
    {
     "name": "stdout",
     "output_type": "stream",
     "text": [
      "created last page\n"
     ]
    }
   ],
   "source": [
    "get_last_pdf_page(\"Nativity_Example.pdf\")"
   ]
  },
  {
   "cell_type": "markdown",
   "id": "e7109a98",
   "metadata": {},
   "source": [
    "# Merging PDFs\n",
    "## get a list of pdfs\n",
    "### PdfMerger (PdfFileMerger)"
   ]
  },
  {
   "cell_type": "code",
   "execution_count": 29,
   "id": "d9f17af5",
   "metadata": {},
   "outputs": [],
   "source": [
    "def fetch_all_pdf_files(parent_folder: str):\n",
    "    target_files = []\n",
    "    for path, subdirs, files in os.walk(parent_folder):\n",
    "        for name in files:\n",
    "            if name.endswith(\".pdf\"):\n",
    "                target_files.append(os.path.join(path, name))\n",
    "    return target_files "
   ]
  },
  {
   "cell_type": "code",
   "execution_count": 30,
   "id": "b3f930e4",
   "metadata": {},
   "outputs": [
    {
     "data": {
      "text/plain": [
       "[]"
      ]
     },
     "execution_count": 30,
     "metadata": {},
     "output_type": "execute_result"
    }
   ],
   "source": [
    "fetch_all_pdf_files(\"./Out\")"
   ]
  },
  {
   "cell_type": "code",
   "execution_count": 31,
   "id": "c212750c",
   "metadata": {},
   "outputs": [],
   "source": [
    "from PyPDF2 import PdfMerger"
   ]
  },
  {
   "cell_type": "code",
   "execution_count": 32,
   "id": "61ba8e0e",
   "metadata": {},
   "outputs": [],
   "source": [
    "def merge_pdf(list_of_pdfs,output_filename=\"final_merged_file.pdf\"):\n",
    "    merger = PdfMerger()\n",
    "    with open(output_filename,\"wb\") as f:\n",
    "        for file in list_of_pdfs:\n",
    "            merger.append(file)\n",
    "        merger.write(f)"
   ]
  },
  {
   "cell_type": "code",
   "execution_count": 33,
   "id": "720f922e",
   "metadata": {},
   "outputs": [],
   "source": [
    "pdf_list = fetch_all_pdf_files(\"./Out\")"
   ]
  },
  {
   "cell_type": "code",
   "execution_count": 34,
   "id": "f4b9e676",
   "metadata": {},
   "outputs": [],
   "source": [
    "merge_pdf(pdf_list)"
   ]
  },
  {
   "cell_type": "markdown",
   "id": "f09b3642",
   "metadata": {},
   "source": [
    "# Rotate PDF"
   ]
  },
  {
   "cell_type": "code",
   "execution_count": 35,
   "id": "e4b48403",
   "metadata": {},
   "outputs": [],
   "source": [
    "def rotate_pdf(pdf_path,page_num:int, rotation: int = 90):\n",
    "    with open(pdf_path,\"rb\") as f:\n",
    "        reader = PdfReader(f)\n",
    "        writer = PdfWriter()\n",
    "        writer.add_page(reader.pages[page_num])\n",
    "        # rotate\n",
    "        writer.pages[page_num].rotate(rotation)\n",
    "        filename = os.path.splitext(pdf_path)[0]\n",
    "        output_filename = f\"{filename}_{rotation}_rotated_page.pdf\"\n",
    "        with open(output_filename, \"wb\") as out:\n",
    "            writer.write(out)\n",
    "        print(\"rotated page\")\n",
    "        "
   ]
  },
  {
   "cell_type": "code",
   "execution_count": 36,
   "id": "322b5cbb",
   "metadata": {},
   "outputs": [
    {
     "name": "stdout",
     "output_type": "stream",
     "text": [
      "rotated page\n"
     ]
    }
   ],
   "source": [
    "rotate_pdf(\"Nativity_Example_last_page.pdf\",0)"
   ]
  },
  {
   "cell_type": "code",
   "execution_count": 37,
   "id": "8116e91a",
   "metadata": {},
   "outputs": [
    {
     "name": "stdout",
     "output_type": "stream",
     "text": [
      "rotated page\n"
     ]
    }
   ],
   "source": [
    "rotate_pdf(\"Nativity_Example_last_page.pdf\",0,180)"
   ]
  },
  {
   "cell_type": "markdown",
   "id": "c1c4fcc7",
   "metadata": {},
   "source": [
    "### Working with Images in PDF\n",
    "### How to extract images from pdf\n",
    "### How to convert images to pdf"
   ]
  },
  {
   "cell_type": "markdown",
   "id": "5536883f",
   "metadata": {},
   "source": [
    "from PyPDF2 import PdfReader"
   ]
  },
  {
   "cell_type": "code",
   "execution_count": 39,
   "id": "b819411b",
   "metadata": {},
   "outputs": [],
   "source": [
    "from PyPDF2 import PdfReader"
   ]
  },
  {
   "cell_type": "code",
   "execution_count": 40,
   "id": "c6dfcf94",
   "metadata": {},
   "outputs": [],
   "source": [
    "def extract_images_from_pdf(pdf_path):\n",
    "    with open(pdf_path,\"rb\") as f:\n",
    "        reader = PdfReader(f)\n",
    "        for page_num in range(0,len(reader.pages)):\n",
    "            selected_page = reader.pages[page_num]\n",
    "            for img_file_obj in selected_page.images:\n",
    "                with open(img_file_obj.name, \"wb\") as out:\n",
    "                    out.write(img_file_obj.data)\n",
    "                    "
   ]
  },
  {
   "cell_type": "markdown",
   "id": "365ba0a7",
   "metadata": {},
   "source": []
  },
  {
   "cell_type": "code",
   "execution_count": 42,
   "id": "e6832f54",
   "metadata": {},
   "outputs": [],
   "source": [
    "\n",
    "extract_images_from_pdf(\"ML_Wiki.pdf\")"
   ]
  },
  {
   "cell_type": "markdown",
   "id": "ba295d2c",
   "metadata": {},
   "source": [
    "#### Convert Img to PDF"
   ]
  },
  {
   "cell_type": "code",
   "execution_count": 43,
   "id": "7b55d27b",
   "metadata": {},
   "outputs": [],
   "source": [
    "from PIL import Image"
   ]
  },
  {
   "cell_type": "code",
   "execution_count": 44,
   "id": "044ceb34",
   "metadata": {},
   "outputs": [],
   "source": [
    "def convert_img2pdf(image_file):\n",
    "    my_image = Image.open(image_file)\n",
    "    img = my_image.convert(\"RGB\")\n",
    "    filename = f\"{os.path.splitext(image_file)[0]}.pdf\"\n",
    "    img.save(filename)"
   ]
  },
  {
   "cell_type": "code",
   "execution_count": 45,
   "id": "1813f6aa",
   "metadata": {},
   "outputs": [],
   "source": [
    "convert_img2pdf(\"X8.png\")"
   ]
  },
  {
   "cell_type": "code",
   "execution_count": null,
   "id": "c8d1fd13",
   "metadata": {},
   "outputs": [],
   "source": []
  }
 ],
 "metadata": {
  "kernelspec": {
   "display_name": "base",
   "language": "python",
   "name": "python3"
  },
  "language_info": {
   "codemirror_mode": {
    "name": "ipython",
    "version": 3
   },
   "file_extension": ".py",
   "mimetype": "text/x-python",
   "name": "python",
   "nbconvert_exporter": "python",
   "pygments_lexer": "ipython3",
   "version": "3.11.5"
  }
 },
 "nbformat": 4,
 "nbformat_minor": 5
}
